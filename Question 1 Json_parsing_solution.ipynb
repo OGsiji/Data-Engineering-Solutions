{
  "nbformat": 4,
  "nbformat_minor": 0,
  "metadata": {
    "kernelspec": {
      "display_name": "Python 3",
      "language": "python",
      "name": "python3"
    },
    "language_info": {
      "codemirror_mode": {
        "name": "ipython",
        "version": 3
      },
      "file_extension": ".py",
      "mimetype": "text/x-python",
      "name": "python",
      "nbconvert_exporter": "python",
      "pygments_lexer": "ipython3",
      "version": "3.7.3"
    },
    "colab": {
      "name": "Question 1 Json parsing solution.ipynb",
      "provenance": []
    }
  },
  "cells": [
    {
      "cell_type": "code",
      "metadata": {
        "id": "fvWhgo15K0Bk"
      },
      "source": [
        ""
      ],
      "execution_count": null,
      "outputs": []
    },
    {
      "cell_type": "code",
      "metadata": {
        "id": "CmKdijJ7snAY"
      },
      "source": [
        ""
      ],
      "execution_count": null,
      "outputs": []
    },
    {
      "cell_type": "code",
      "metadata": {
        "id": "FkpU7GZZdkGz"
      },
      "source": [
        "#!pip3 install pandas==0.25.3"
      ],
      "execution_count": 1,
      "outputs": []
    },
    {
      "cell_type": "code",
      "metadata": {
        "id": "GOfP3dr6K0Bw"
      },
      "source": [
        "#import the necessary libraries\n",
        "\n",
        "import json\n",
        "import numpy as np\n",
        "import pandas as pd\n",
        "from pandas.io.json import json_normalize"
      ],
      "execution_count": 2,
      "outputs": []
    },
    {
      "cell_type": "code",
      "metadata": {
        "id": "k0mgJPB0K0Bz"
      },
      "source": [
        "\n"
      ],
      "execution_count": 2,
      "outputs": []
    },
    {
      "cell_type": "code",
      "metadata": {
        "id": "M5ygof8KK0B1"
      },
      "source": [
        "#load the json from content file\n",
        "\n",
        "with open('/content/dab.json',) as f:\n",
        "    data = json.load(f)\n"
      ],
      "execution_count": 3,
      "outputs": []
    },
    {
      "cell_type": "code",
      "metadata": {
        "id": "niOIgmsaK0B3",
        "colab": {
          "base_uri": "https://localhost:8080/"
        },
        "outputId": "2ceed346-8392-4773-b68d-7fa3653a0301"
      },
      "source": [
        "#Load the Data\n",
        "data['file']"
      ],
      "execution_count": 4,
      "outputs": [
        {
          "output_type": "execute_result",
          "data": {
            "text/plain": [
              "[{'_id': {'_data': '826113AC20000000342B022C0100296E5A1004AF58B78CD41E4D8C9BAC3675F36514AB46645F696400646112472C5E450E8C3374BA3F0004'},\n",
              "  'clusterTime': 886594816,\n",
              "  'documentKey': {'_id': '{\"$oid\": \"6112472c5e450e8c3374ba3f\"}'},\n",
              "  'fullDocument': {'_id': '{\"$oid\": \"6112472c5e450e8c3374ba3f\"}',\n",
              "   'name': 'Ifeanyi Bill JSON R',\n",
              "   'position': 'Son',\n",
              "   'surname': 'Amanambu'},\n",
              "  'ns': {'coll': 'family', 'db': 'feshdb'},\n",
              "  'operationType': 'update',\n",
              "  'updateDescription': {'removedFields': [],\n",
              "   'updatedFields': {'name': 'Ifeanyi Bill JSON R'}}},\n",
              " {'_id': {'_data': '826110F66E0000002F2B022C0100296E5A1004AF58B78CD41E4D8C9BAC3675F36514AB46645F696400646110E0285E450E8C3374BA3D0004'},\n",
              "  'clusterTime': 709008816,\n",
              "  'documentKey': {'_id': '{\"$oid\":\"6110e0285e450e8c3374ba3d\"}'},\n",
              "  'ns': {'coll': 'family', 'db': 'feshdb'},\n",
              "  'operationType': 'delete'}]"
            ]
          },
          "metadata": {},
          "execution_count": 4
        }
      ]
    },
    {
      "cell_type": "markdown",
      "metadata": {
        "id": "60-I_9nu5mkQ"
      },
      "source": [
        "\n",
        "**Four Ways to Convert Nested JSON to Data Frame:**\n",
        "\n",
        "\n",
        "First Use: pandas.read_json then you have two options:\n",
        "\n",
        "1 st : convert data type, then create a new data frame\n",
        "\n",
        "2 nd : use pandas.json_normalize directly.\n",
        "\n",
        "3 rd : iterate and enter nested outer to inner\n",
        "\n",
        "4 th : list comprehension\n",
        "\n",
        "\n",
        "For this solution I used pandas.json_normalize directly."
      ]
    },
    {
      "cell_type": "code",
      "metadata": {
        "id": "eXzBRPtZn-AM"
      },
      "source": [
        "#This function preprocesses the data into a table format\n",
        "#The data will now be changed to a table format\n",
        "\n",
        "\n",
        "def preprocess(json):\n",
        "  Parsed_data = json_normalize( json)\n",
        "  Parsed_data['_id']=Parsed_data['documentKey._id'].apply(lambda x: x.split('\"')[3])\n",
        "  Parsed_data['fullDocument.name'] = Parsed_data['fullDocument.name'].str[:-7] \n",
        "  Parsed_data = Parsed_data.rename(columns={'fullDocument.name': 'name', 'fullDocument.surname': 'surname', 'fullDocument.position': 'position'})\n",
        "  Parsed_data=Parsed_data[['_id','name','surname','position','operationType']]\n",
        "  return(Parsed_data)\n"
      ],
      "execution_count": 7,
      "outputs": []
    },
    {
      "cell_type": "code",
      "metadata": {
        "colab": {
          "base_uri": "https://localhost:8080/",
          "height": 111
        },
        "id": "K1n2E9O7o5dG",
        "outputId": "4174bad6-1ee2-4d24-c170-3cd102a2d2d6"
      },
      "source": [
        "#the fullDocument key represents the actual data and informs the majority of the headers.\n",
        "\n",
        "preprocess(data['file'])\n"
      ],
      "execution_count": 8,
      "outputs": [
        {
          "output_type": "execute_result",
          "data": {
            "text/html": [
              "<div>\n",
              "<style scoped>\n",
              "    .dataframe tbody tr th:only-of-type {\n",
              "        vertical-align: middle;\n",
              "    }\n",
              "\n",
              "    .dataframe tbody tr th {\n",
              "        vertical-align: top;\n",
              "    }\n",
              "\n",
              "    .dataframe thead th {\n",
              "        text-align: right;\n",
              "    }\n",
              "</style>\n",
              "<table border=\"1\" class=\"dataframe\">\n",
              "  <thead>\n",
              "    <tr style=\"text-align: right;\">\n",
              "      <th></th>\n",
              "      <th>_id</th>\n",
              "      <th>name</th>\n",
              "      <th>surname</th>\n",
              "      <th>position</th>\n",
              "      <th>operationType</th>\n",
              "    </tr>\n",
              "  </thead>\n",
              "  <tbody>\n",
              "    <tr>\n",
              "      <th>0</th>\n",
              "      <td>6112472c5e450e8c3374ba3f</td>\n",
              "      <td>Ifeanyi Bill</td>\n",
              "      <td>Amanambu</td>\n",
              "      <td>Son</td>\n",
              "      <td>update</td>\n",
              "    </tr>\n",
              "    <tr>\n",
              "      <th>1</th>\n",
              "      <td>6110e0285e450e8c3374ba3d</td>\n",
              "      <td>NaN</td>\n",
              "      <td>NaN</td>\n",
              "      <td>NaN</td>\n",
              "      <td>delete</td>\n",
              "    </tr>\n",
              "  </tbody>\n",
              "</table>\n",
              "</div>"
            ],
            "text/plain": [
              "                        _id          name   surname position operationType\n",
              "0  6112472c5e450e8c3374ba3f  Ifeanyi Bill  Amanambu      Son        update\n",
              "1  6110e0285e450e8c3374ba3d           NaN       NaN      NaN        delete"
            ]
          },
          "metadata": {},
          "execution_count": 8
        }
      ]
    }
  ]
}